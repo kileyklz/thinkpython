{
 "cells": [
  {
   "cell_type": "code",
   "execution_count": 1,
   "metadata": {},
   "outputs": [],
   "source": [
    "import math\n"
   ]
  },
  {
   "cell_type": "code",
   "execution_count": 3,
   "metadata": {},
   "outputs": [
    {
     "name": "stdout",
     "output_type": "stream",
     "text": [
      "0.644217687237691\n"
     ]
    }
   ],
   "source": [
    "radians = 0.7\n",
    "height=math.sin(radians)\n",
    "print(height)"
   ]
  },
  {
   "cell_type": "code",
   "execution_count": 8,
   "metadata": {},
   "outputs": [
    {
     "name": "stdout",
     "output_type": "stream",
     "text": [
      "0.7071067811865475\n"
     ]
    }
   ],
   "source": [
    "degrees =45\n",
    "radians = degrees/180.0 * math.pi\n",
    "print(math.sin(radians))"
   ]
  },
  {
   "cell_type": "code",
   "execution_count": 10,
   "metadata": {},
   "outputs": [
    {
     "name": "stdout",
     "output_type": "stream",
     "text": [
      "0.7071067811865476 3.141592653589793\n"
     ]
    }
   ],
   "source": [
    "answer = math.sqrt(2)/2.0\n",
    "print(answer, math.pi)"
   ]
  },
  {
   "cell_type": "code",
   "execution_count": 11,
   "metadata": {},
   "outputs": [
    {
     "name": "stdout",
     "output_type": "stream",
     "text": [
      "0.7071067811865475\n"
     ]
    }
   ],
   "source": [
    "x = math.sin(degrees/360.0*2*math.pi)\n",
    "print(x)"
   ]
  },
  {
   "cell_type": "code",
   "execution_count": 27,
   "metadata": {},
   "outputs": [
    {
     "name": "stdout",
     "output_type": "stream",
     "text": [
      "16.707106781186543\n"
     ]
    }
   ],
   "source": [
    "x=math.exp(math.log(x+1))\n",
    "print(x)"
   ]
  },
  {
   "cell_type": "code",
   "execution_count": null,
   "metadata": {},
   "outputs": [],
   "source": [
    "5//3  #gives integer as answer\n",
    "5%3   #gives remainder as answer\n"
   ]
  },
  {
   "cell_type": "code",
   "execution_count": 31,
   "metadata": {},
   "outputs": [
    {
     "name": "stdout",
     "output_type": "stream",
     "text": [
      "修炼爱情的悲欢\n",
      "我们这些努力不简单\n",
      "修炼爱情的悲欢\n",
      "我们这些努力不简单\n"
     ]
    }
   ],
   "source": [
    "def print_lyrics():\n",
    "    print(\"修炼爱情的悲欢\")\n",
    "    print(\"我们这些努力不简单\")\n",
    "#print_lyrics()\n",
    "\n",
    "def repeat_lyrics():\n",
    "    print_lyrics()\n",
    "    print_lyrics()\n",
    "repeat_lyrics()\n"
   ]
  },
  {
   "cell_type": "code",
   "execution_count": 37,
   "metadata": {},
   "outputs": [
    {
     "name": "stdout",
     "output_type": "stream",
     "text": [
      "hello\n",
      "hello\n",
      "00000\n",
      "00000\n"
     ]
    }
   ],
   "source": [
    "def print_twice(bruce):\n",
    "    print(bruce)\n",
    "    print(bruce)\n",
    "print_twice('hello')\n",
    "print_twice('0'*5)\n"
   ]
  },
  {
   "cell_type": "code",
   "execution_count": 38,
   "metadata": {},
   "outputs": [
    {
     "name": "stdout",
     "output_type": "stream",
     "text": [
      "hello, im hungry\n",
      "hello, im hungry\n"
     ]
    }
   ],
   "source": [
    "mike = 'hello, im hungry'\n",
    "print_twice(mike)"
   ]
  },
  {
   "cell_type": "code",
   "execution_count": 46,
   "metadata": {},
   "outputs": [
    {
     "name": "stdout",
     "output_type": "stream",
     "text": [
      "front, back, middle\n",
      "front, back, middle\n"
     ]
    }
   ],
   "source": [
    "def cat_twice(part1, part2):\n",
    "    cat = part1 + part2\n",
    "    print_twice(cat)\n",
    "cat_twice(\"front, back\" , \", middle\")"
   ]
  },
  {
   "cell_type": "code",
   "execution_count": 47,
   "metadata": {},
   "outputs": [
    {
     "name": "stdout",
     "output_type": "stream",
     "text": [
      "spam\n",
      "spam\n",
      "\n",
      "spam\n",
      "spam\n",
      "spam\n",
      "spam\n"
     ]
    }
   ],
   "source": [
    "from __future__ import print_function, division\n",
    "\n",
    "\n",
    "def do_twice(func, arg):\n",
    "    \"\"\"Runs a function twice.\n",
    "    func: function object\n",
    "    arg: argument passed to the function\n",
    "    \"\"\"\n",
    "    func(arg)\n",
    "    func(arg)\n",
    "\n",
    "\n",
    "def print_twice(arg):\n",
    "    \"\"\"Prints the argument twice.\n",
    "    arg: anything printable\n",
    "    \"\"\"\n",
    "    print(arg)\n",
    "    print(arg)\n",
    "\n",
    "\n",
    "def do_four(func, arg):\n",
    "    \"\"\"Runs a function four times.\n",
    "    func: function object\n",
    "    arg: argument passed to the function\n",
    "    \"\"\"\n",
    "    do_twice(func, arg)\n",
    "    do_twice(func, arg)\n",
    "\n",
    "\n",
    "do_twice(print, 'spam')\n",
    "print('')\n",
    "\n",
    "do_four(print, 'spam')"
   ]
  },
  {
   "cell_type": "code",
   "execution_count": 48,
   "metadata": {},
   "outputs": [
    {
     "name": "stdout",
     "output_type": "stream",
     "text": [
      "+ - - - - + - - - - +\n",
      "|         |         |\n",
      "|         |         |\n",
      "|         |         |\n",
      "|         |         |\n",
      "+ - - - - + - - - - +\n",
      "|         |         |\n",
      "|         |         |\n",
      "|         |         |\n",
      "|         |         |\n",
      "+ - - - - + - - - - +\n",
      "+ - - - - + - - - - + - - - - + - - - - + \n",
      "|         |         |         |         | \n",
      "|         |         |         |         | \n",
      "|         |         |         |         | \n",
      "|         |         |         |         | \n",
      "+ - - - - + - - - - + - - - - + - - - - + \n",
      "|         |         |         |         | \n",
      "|         |         |         |         | \n",
      "|         |         |         |         | \n",
      "|         |         |         |         | \n",
      "+ - - - - + - - - - + - - - - + - - - - + \n",
      "|         |         |         |         | \n",
      "|         |         |         |         | \n",
      "|         |         |         |         | \n",
      "|         |         |         |         | \n",
      "+ - - - - + - - - - + - - - - + - - - - + \n",
      "|         |         |         |         | \n",
      "|         |         |         |         | \n",
      "|         |         |         |         | \n",
      "|         |         |         |         | \n",
      "+ - - - - + - - - - + - - - - + - - - - + \n",
      "\n",
      "After writing a draft of the 4x4 grid, I noticed that many of the\n",
      "functions had the same structure: they would do something, do\n",
      "something else four times, and then do something else once.\n",
      "So I wrote one_four_one, which takes three functions as arguments; it\n",
      "calls the first one once, then uses do_four to call the second one\n",
      "four times, then calls the third.\n",
      "Then I rewrote print1beam, print1post, print4beams, print4posts,\n",
      "print_row and print_grid using one_four_one.\n",
      "Programming is an exploratory process.  Writing a draft of a program\n",
      "often gives you insight into the problem, which might lead you to\n",
      "rewrite the code to reflect the structure of the solution.\n",
      "--- Allen\n",
      "\n"
     ]
    }
   ],
   "source": [
    "from __future__ import print_function, division\n",
    "\n",
    "# here is a mostly-straightforward solution to the\n",
    "# two-by-two version of the grid.\n",
    "\n",
    "def do_twice(f):\n",
    "    f()\n",
    "    f()\n",
    "\n",
    "def do_four(f):\n",
    "    do_twice(f)\n",
    "    do_twice(f)\n",
    "\n",
    "def print_beam():\n",
    "    print('+ - - - -', end=' ')\n",
    "\n",
    "def print_post():\n",
    "    print('|        ', end=' ')\n",
    "\n",
    "def print_beams():\n",
    "    do_twice(print_beam)\n",
    "    print('+')\n",
    "\n",
    "def print_posts():\n",
    "    do_twice(print_post)\n",
    "    print('|')\n",
    "\n",
    "def print_row():\n",
    "    print_beams()\n",
    "    do_four(print_posts)\n",
    "\n",
    "def print_grid():\n",
    "    do_twice(print_row)\n",
    "    print_beams()\n",
    "\n",
    "print_grid()\n",
    "    \n",
    "\n",
    "# here is a less-straightforward solution to the\n",
    "# four-by-four grid\n",
    "\n",
    "def one_four_one(f, g, h):\n",
    "    f()\n",
    "    do_four(g)\n",
    "    h()\n",
    "\n",
    "def print_plus():\n",
    "    print('+', end=' ')\n",
    "\n",
    "def print_dash():\n",
    "    print('-', end=' ')\n",
    "\n",
    "def print_bar():\n",
    "    print('|', end=' ')\n",
    "\n",
    "def print_space():\n",
    "    print(' ', end=' ')\n",
    "\n",
    "def print_end():\n",
    "    print()\n",
    "\n",
    "def nothing():\n",
    "    \"do nothing\"\n",
    "\n",
    "def print1beam():\n",
    "    one_four_one(nothing, print_dash, print_plus)\n",
    "\n",
    "def print1post():\n",
    "    one_four_one(nothing, print_space, print_bar)\n",
    "\n",
    "def print4beams():\n",
    "    one_four_one(print_plus, print1beam, print_end)\n",
    "\n",
    "def print4posts():\n",
    "    one_four_one(print_bar, print1post, print_end)\n",
    "\n",
    "def print_row():\n",
    "    one_four_one(nothing, print4posts, print4beams)\n",
    "\n",
    "def print_grid():\n",
    "    one_four_one(print4beams, print_row, nothing)\n",
    "\n",
    "print_grid()\n",
    "\n",
    "comment = \"\"\"\n",
    "After writing a draft of the 4x4 grid, I noticed that many of the\n",
    "functions had the same structure: they would do something, do\n",
    "something else four times, and then do something else once.\n",
    "So I wrote one_four_one, which takes three functions as arguments; it\n",
    "calls the first one once, then uses do_four to call the second one\n",
    "four times, then calls the third.\n",
    "Then I rewrote print1beam, print1post, print4beams, print4posts,\n",
    "print_row and print_grid using one_four_one.\n",
    "Programming is an exploratory process.  Writing a draft of a program\n",
    "often gives you insight into the problem, which might lead you to\n",
    "rewrite the code to reflect the structure of the solution.\n",
    "--- Allen\n",
    "\"\"\"\n",
    "\n",
    "print(comment)"
   ]
  }
 ],
 "metadata": {
  "kernelspec": {
   "display_name": "Python 3",
   "language": "python",
   "name": "python3"
  },
  "language_info": {
   "codemirror_mode": {
    "name": "ipython",
    "version": 3
   },
   "file_extension": ".py",
   "mimetype": "text/x-python",
   "name": "python",
   "nbconvert_exporter": "python",
   "pygments_lexer": "ipython3",
   "version": "3.10.4"
  },
  "orig_nbformat": 4,
  "vscode": {
   "interpreter": {
    "hash": "3ad933181bd8a04b432d3370b9dc3b0662ad032c4dfaa4e4f1596c548f763858"
   }
  }
 },
 "nbformat": 4,
 "nbformat_minor": 2
}
