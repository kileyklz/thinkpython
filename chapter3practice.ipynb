{
 "cells": [
  {
   "cell_type": "code",
   "execution_count": 2,
   "metadata": {},
   "outputs": [
    {
     "ename": "RecursionError",
     "evalue": "maximum recursion depth exceeded",
     "output_type": "error",
     "traceback": [
      "\u001b[0;31m---------------------------------------------------------------------------\u001b[0m",
      "\u001b[0;31mRecursionError\u001b[0m                            Traceback (most recent call last)",
      "Cell \u001b[0;32mIn[2], line 31\u001b[0m\n\u001b[1;32m     28\u001b[0m     do_twice(print_line)\n\u001b[1;32m     29\u001b[0m     print_dash()\n\u001b[0;32m---> 31\u001b[0m print_grid()\n",
      "Cell \u001b[0;32mIn[2], line 28\u001b[0m, in \u001b[0;36mprint_grid\u001b[0;34m()\u001b[0m\n\u001b[1;32m     27\u001b[0m \u001b[39mdef\u001b[39;00m \u001b[39mprint_grid\u001b[39m():\n\u001b[0;32m---> 28\u001b[0m     do_twice(print_line)\n\u001b[1;32m     29\u001b[0m     print_dash()\n",
      "Cell \u001b[0;32mIn[2], line 2\u001b[0m, in \u001b[0;36mdo_twice\u001b[0;34m(x)\u001b[0m\n\u001b[1;32m      1\u001b[0m \u001b[39mdef\u001b[39;00m \u001b[39mdo_twice\u001b[39m(x):\n\u001b[0;32m----> 2\u001b[0m     x()\n\u001b[1;32m      3\u001b[0m     x()\n",
      "Cell \u001b[0;32mIn[2], line 20\u001b[0m, in \u001b[0;36mprint_line\u001b[0;34m()\u001b[0m\n\u001b[1;32m     19\u001b[0m \u001b[39mdef\u001b[39;00m \u001b[39mprint_line\u001b[39m():\n\u001b[0;32m---> 20\u001b[0m     do_twice(print_line)\n\u001b[1;32m     21\u001b[0m     \u001b[39mprint\u001b[39m(\u001b[39m'\u001b[39m\u001b[39m|\u001b[39m\u001b[39m'\u001b[39m)\n",
      "Cell \u001b[0;32mIn[2], line 2\u001b[0m, in \u001b[0;36mdo_twice\u001b[0;34m(x)\u001b[0m\n\u001b[1;32m      1\u001b[0m \u001b[39mdef\u001b[39;00m \u001b[39mdo_twice\u001b[39m(x):\n\u001b[0;32m----> 2\u001b[0m     x()\n\u001b[1;32m      3\u001b[0m     x()\n",
      "Cell \u001b[0;32mIn[2], line 20\u001b[0m, in \u001b[0;36mprint_line\u001b[0;34m()\u001b[0m\n\u001b[1;32m     19\u001b[0m \u001b[39mdef\u001b[39;00m \u001b[39mprint_line\u001b[39m():\n\u001b[0;32m---> 20\u001b[0m     do_twice(print_line)\n\u001b[1;32m     21\u001b[0m     \u001b[39mprint\u001b[39m(\u001b[39m'\u001b[39m\u001b[39m|\u001b[39m\u001b[39m'\u001b[39m)\n",
      "    \u001b[0;31m[... skipping similar frames: do_twice at line 2 (1483 times), print_line at line 20 (1483 times)]\u001b[0m\n",
      "Cell \u001b[0;32mIn[2], line 2\u001b[0m, in \u001b[0;36mdo_twice\u001b[0;34m(x)\u001b[0m\n\u001b[1;32m      1\u001b[0m \u001b[39mdef\u001b[39;00m \u001b[39mdo_twice\u001b[39m(x):\n\u001b[0;32m----> 2\u001b[0m     x()\n\u001b[1;32m      3\u001b[0m     x()\n",
      "Cell \u001b[0;32mIn[2], line 20\u001b[0m, in \u001b[0;36mprint_line\u001b[0;34m()\u001b[0m\n\u001b[1;32m     19\u001b[0m \u001b[39mdef\u001b[39;00m \u001b[39mprint_line\u001b[39m():\n\u001b[0;32m---> 20\u001b[0m     do_twice(print_line)\n\u001b[1;32m     21\u001b[0m     \u001b[39mprint\u001b[39m(\u001b[39m'\u001b[39m\u001b[39m|\u001b[39m\u001b[39m'\u001b[39m)\n",
      "\u001b[0;31mRecursionError\u001b[0m: maximum recursion depth exceeded"
     ]
    }
   ],
   "source": [
    "def do_twice(x):\n",
    "    x()\n",
    "    x()\n",
    "\n",
    "def do_four(x):\n",
    "    do_twice(x)\n",
    "    do_twice(X)\n",
    "\n",
    "def print_dash():\n",
    "    print('+ - - - -', end=' ')\n",
    "\n",
    "def print_line():\n",
    "    print('|        ', end=' ')\n",
    "\n",
    "def print_dash():\n",
    "    do_twice(print_dash)\n",
    "    print('+')\n",
    "\n",
    "def print_line():\n",
    "    do_twice(print_line)\n",
    "    print('|')\n",
    "\n",
    "def print_row():\n",
    "    print_dash()\n",
    "    do_four(print_line)\n",
    "\n",
    "def print_grid():\n",
    "    do_twice(print_line)\n",
    "    print_dash()\n",
    "\n",
    "print_grid()"
   ]
  }
 ],
 "metadata": {
  "kernelspec": {
   "display_name": "Python 3",
   "language": "python",
   "name": "python3"
  },
  "language_info": {
   "codemirror_mode": {
    "name": "ipython",
    "version": 3
   },
   "file_extension": ".py",
   "mimetype": "text/x-python",
   "name": "python",
   "nbconvert_exporter": "python",
   "pygments_lexer": "ipython3",
   "version": "3.10.4 (main, Dec 19 2022, 20:24:16) [GCC 9.4.0]"
  },
  "orig_nbformat": 4,
  "vscode": {
   "interpreter": {
    "hash": "3ad933181bd8a04b432d3370b9dc3b0662ad032c4dfaa4e4f1596c548f763858"
   }
  }
 },
 "nbformat": 4,
 "nbformat_minor": 2
}
